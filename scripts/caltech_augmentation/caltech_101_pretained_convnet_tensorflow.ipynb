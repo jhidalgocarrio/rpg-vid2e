{
 "cells": [
  {
   "cell_type": "markdown",
   "metadata": {},
   "source": [
    "# Caltech101 dataset object classification using pre-trained CNNs\n",
    "\n",
    "This code is inspired/copied by the repository https://github.com/fchollet/deep-learning-with-python-notebooks that has the code from book \"Deep Learning with Python\".\n",
    "\n",
    "More specifically, I am running code from the notebooks:\n",
    "https://github.com/fchollet/deep-learning-with-python-notebooks/blob/master/5.2-using-convnets-with-small-datasets.ipynb\n",
    "https://github.com/fchollet/deep-learning-with-python-notebooks/blob/master/5.3-using-a-pretrained-convnet.ipynb\n",
    "\n",
    "adapted to the Caltech101 dataset. Please refer to the original Jupyter Notebooks above for further info."
   ]
  },
  {
   "cell_type": "code",
   "execution_count": 1,
   "metadata": {},
   "outputs": [
    {
     "name": "stderr",
     "output_type": "stream",
     "text": [
      "Using TensorFlow backend.\n",
      "/home/javi/.anaconda3/envs/python3/lib/python3.6/site-packages/tensorflow/python/framework/dtypes.py:516: FutureWarning: Passing (type, 1) or '1type' as a synonym of type is deprecated; in a future version of numpy, it will be understood as (type, (1,)) / '(1,)type'.\n",
      "  _np_qint8 = np.dtype([(\"qint8\", np.int8, 1)])\n",
      "/home/javi/.anaconda3/envs/python3/lib/python3.6/site-packages/tensorflow/python/framework/dtypes.py:517: FutureWarning: Passing (type, 1) or '1type' as a synonym of type is deprecated; in a future version of numpy, it will be understood as (type, (1,)) / '(1,)type'.\n",
      "  _np_quint8 = np.dtype([(\"quint8\", np.uint8, 1)])\n",
      "/home/javi/.anaconda3/envs/python3/lib/python3.6/site-packages/tensorflow/python/framework/dtypes.py:518: FutureWarning: Passing (type, 1) or '1type' as a synonym of type is deprecated; in a future version of numpy, it will be understood as (type, (1,)) / '(1,)type'.\n",
      "  _np_qint16 = np.dtype([(\"qint16\", np.int16, 1)])\n",
      "/home/javi/.anaconda3/envs/python3/lib/python3.6/site-packages/tensorflow/python/framework/dtypes.py:519: FutureWarning: Passing (type, 1) or '1type' as a synonym of type is deprecated; in a future version of numpy, it will be understood as (type, (1,)) / '(1,)type'.\n",
      "  _np_quint16 = np.dtype([(\"quint16\", np.uint16, 1)])\n",
      "/home/javi/.anaconda3/envs/python3/lib/python3.6/site-packages/tensorflow/python/framework/dtypes.py:520: FutureWarning: Passing (type, 1) or '1type' as a synonym of type is deprecated; in a future version of numpy, it will be understood as (type, (1,)) / '(1,)type'.\n",
      "  _np_qint32 = np.dtype([(\"qint32\", np.int32, 1)])\n",
      "/home/javi/.anaconda3/envs/python3/lib/python3.6/site-packages/tensorflow/python/framework/dtypes.py:525: FutureWarning: Passing (type, 1) or '1type' as a synonym of type is deprecated; in a future version of numpy, it will be understood as (type, (1,)) / '(1,)type'.\n",
      "  np_resource = np.dtype([(\"resource\", np.ubyte, 1)])\n"
     ]
    },
    {
     "name": "stdout",
     "output_type": "stream",
     "text": [
      "keras version:  2.2.4\n",
      "tensoflow version:  1.14.0\n"
     ]
    },
    {
     "name": "stderr",
     "output_type": "stream",
     "text": [
      "/home/javi/.anaconda3/envs/python3/lib/python3.6/site-packages/tensorboard/compat/tensorflow_stub/dtypes.py:541: FutureWarning: Passing (type, 1) or '1type' as a synonym of type is deprecated; in a future version of numpy, it will be understood as (type, (1,)) / '(1,)type'.\n",
      "  _np_qint8 = np.dtype([(\"qint8\", np.int8, 1)])\n",
      "/home/javi/.anaconda3/envs/python3/lib/python3.6/site-packages/tensorboard/compat/tensorflow_stub/dtypes.py:542: FutureWarning: Passing (type, 1) or '1type' as a synonym of type is deprecated; in a future version of numpy, it will be understood as (type, (1,)) / '(1,)type'.\n",
      "  _np_quint8 = np.dtype([(\"quint8\", np.uint8, 1)])\n",
      "/home/javi/.anaconda3/envs/python3/lib/python3.6/site-packages/tensorboard/compat/tensorflow_stub/dtypes.py:543: FutureWarning: Passing (type, 1) or '1type' as a synonym of type is deprecated; in a future version of numpy, it will be understood as (type, (1,)) / '(1,)type'.\n",
      "  _np_qint16 = np.dtype([(\"qint16\", np.int16, 1)])\n",
      "/home/javi/.anaconda3/envs/python3/lib/python3.6/site-packages/tensorboard/compat/tensorflow_stub/dtypes.py:544: FutureWarning: Passing (type, 1) or '1type' as a synonym of type is deprecated; in a future version of numpy, it will be understood as (type, (1,)) / '(1,)type'.\n",
      "  _np_quint16 = np.dtype([(\"quint16\", np.uint16, 1)])\n",
      "/home/javi/.anaconda3/envs/python3/lib/python3.6/site-packages/tensorboard/compat/tensorflow_stub/dtypes.py:545: FutureWarning: Passing (type, 1) or '1type' as a synonym of type is deprecated; in a future version of numpy, it will be understood as (type, (1,)) / '(1,)type'.\n",
      "  _np_qint32 = np.dtype([(\"qint32\", np.int32, 1)])\n",
      "/home/javi/.anaconda3/envs/python3/lib/python3.6/site-packages/tensorboard/compat/tensorflow_stub/dtypes.py:550: FutureWarning: Passing (type, 1) or '1type' as a synonym of type is deprecated; in a future version of numpy, it will be understood as (type, (1,)) / '(1,)type'.\n",
      "  np_resource = np.dtype([(\"resource\", np.ubyte, 1)])\n"
     ]
    }
   ],
   "source": [
    "import os\n",
    "\n",
    "os.environ[\"CUDA_DEVICE_ORDER\"]=\"PCI_BUS_ID\"\n",
    "# The GPU id to use, usually either \"0\" or \"1\"\n",
    "os.environ[\"CUDA_VISIBLE_DEVICES\"]=\"0\" \n",
    "\n",
    "import numpy as np\n",
    "import cv2\n",
    "from matplotlib import pyplot as plt\n",
    "\n",
    "import keras\n",
    "print(\"keras version: \", keras.__version__)\n",
    "\n",
    "import tensorflow as tf\n",
    "print(\"tensoflow version: \", tf.__version__)"
   ]
  },
  {
   "cell_type": "code",
   "execution_count": 2,
   "metadata": {},
   "outputs": [],
   "source": [
    "# istructions from: https://michaelblogscode.wordpress.com/2017/10/10/reducing-and-profiling-gpu-memory-usage-in-keras-with-tensorflow-backend/\n",
    "\n",
    "# TensorFlow wizardry\n",
    "config = tf.ConfigProto()\n",
    " \n",
    "# Don't pre-allocate memory; allocate as-needed\n",
    "config.gpu_options.allow_growth = True\n",
    " \n",
    "# Only allow a total of half the GPU memory to be allocated\n",
    "config.gpu_options.per_process_gpu_memory_fraction = 0.9\n",
    " \n",
    "# Create a session with the above options specified.\n",
    "keras.backend.tensorflow_backend.set_session(tf.Session(config=config))"
   ]
  },
  {
   "cell_type": "markdown",
   "metadata": {},
   "source": [
    "# Using a pre-trained convnet"
   ]
  },
  {
   "cell_type": "markdown",
   "metadata": {},
   "source": [
    "# Feature extractions"
   ]
  },
  {
   "cell_type": "code",
   "execution_count": 3,
   "metadata": {},
   "outputs": [
    {
     "name": "stdout",
     "output_type": "stream",
     "text": [
      "WARNING:tensorflow:From /home/javi/.anaconda3/envs/python3/lib/python3.6/site-packages/keras/backend/tensorflow_backend.py:74: The name tf.get_default_graph is deprecated. Please use tf.compat.v1.get_default_graph instead.\n",
      "\n",
      "WARNING:tensorflow:From /home/javi/.anaconda3/envs/python3/lib/python3.6/site-packages/keras/backend/tensorflow_backend.py:517: The name tf.placeholder is deprecated. Please use tf.compat.v1.placeholder instead.\n",
      "\n",
      "WARNING:tensorflow:From /home/javi/.anaconda3/envs/python3/lib/python3.6/site-packages/keras/backend/tensorflow_backend.py:4138: The name tf.random_uniform is deprecated. Please use tf.random.uniform instead.\n",
      "\n",
      "WARNING:tensorflow:From /home/javi/.anaconda3/envs/python3/lib/python3.6/site-packages/keras/backend/tensorflow_backend.py:3976: The name tf.nn.max_pool is deprecated. Please use tf.nn.max_pool2d instead.\n",
      "\n",
      "WARNING:tensorflow:From /home/javi/.anaconda3/envs/python3/lib/python3.6/site-packages/keras/backend/tensorflow_backend.py:174: The name tf.get_default_session is deprecated. Please use tf.compat.v1.get_default_session instead.\n",
      "\n",
      "WARNING:tensorflow:From /home/javi/.anaconda3/envs/python3/lib/python3.6/site-packages/keras/backend/tensorflow_backend.py:190: The name tf.global_variables is deprecated. Please use tf.compat.v1.global_variables instead.\n",
      "\n"
     ]
    }
   ],
   "source": [
    "from keras.applications import ResNet50, VGG16\n",
    "\n",
    "#conv_base = ResNet50(weights='imagenet',\n",
    "#                  include_top=False,\n",
    "#                  input_shape=(197, 197, 3))\n",
    "\n",
    "conv_base = VGG16(weights='imagenet',\n",
    "                  include_top=False,\n",
    "                  input_shape=(150, 150, 3))"
   ]
  },
  {
   "cell_type": "code",
   "execution_count": 4,
   "metadata": {
    "scrolled": true
   },
   "outputs": [
    {
     "name": "stdout",
     "output_type": "stream",
     "text": [
      "_________________________________________________________________\n",
      "Layer (type)                 Output Shape              Param #   \n",
      "=================================================================\n",
      "input_1 (InputLayer)         (None, 150, 150, 3)       0         \n",
      "_________________________________________________________________\n",
      "block1_conv1 (Conv2D)        (None, 150, 150, 64)      1792      \n",
      "_________________________________________________________________\n",
      "block1_conv2 (Conv2D)        (None, 150, 150, 64)      36928     \n",
      "_________________________________________________________________\n",
      "block1_pool (MaxPooling2D)   (None, 75, 75, 64)        0         \n",
      "_________________________________________________________________\n",
      "block2_conv1 (Conv2D)        (None, 75, 75, 128)       73856     \n",
      "_________________________________________________________________\n",
      "block2_conv2 (Conv2D)        (None, 75, 75, 128)       147584    \n",
      "_________________________________________________________________\n",
      "block2_pool (MaxPooling2D)   (None, 37, 37, 128)       0         \n",
      "_________________________________________________________________\n",
      "block3_conv1 (Conv2D)        (None, 37, 37, 256)       295168    \n",
      "_________________________________________________________________\n",
      "block3_conv2 (Conv2D)        (None, 37, 37, 256)       590080    \n",
      "_________________________________________________________________\n",
      "block3_conv3 (Conv2D)        (None, 37, 37, 256)       590080    \n",
      "_________________________________________________________________\n",
      "block3_pool (MaxPooling2D)   (None, 18, 18, 256)       0         \n",
      "_________________________________________________________________\n",
      "block4_conv1 (Conv2D)        (None, 18, 18, 512)       1180160   \n",
      "_________________________________________________________________\n",
      "block4_conv2 (Conv2D)        (None, 18, 18, 512)       2359808   \n",
      "_________________________________________________________________\n",
      "block4_conv3 (Conv2D)        (None, 18, 18, 512)       2359808   \n",
      "_________________________________________________________________\n",
      "block4_pool (MaxPooling2D)   (None, 9, 9, 512)         0         \n",
      "_________________________________________________________________\n",
      "block5_conv1 (Conv2D)        (None, 9, 9, 512)         2359808   \n",
      "_________________________________________________________________\n",
      "block5_conv2 (Conv2D)        (None, 9, 9, 512)         2359808   \n",
      "_________________________________________________________________\n",
      "block5_conv3 (Conv2D)        (None, 9, 9, 512)         2359808   \n",
      "_________________________________________________________________\n",
      "block5_pool (MaxPooling2D)   (None, 4, 4, 512)         0         \n",
      "=================================================================\n",
      "Total params: 14,714,688\n",
      "Trainable params: 14,714,688\n",
      "Non-trainable params: 0\n",
      "_________________________________________________________________\n"
     ]
    }
   ],
   "source": [
    "conv_base.summary()"
   ]
  },
  {
   "cell_type": "markdown",
   "metadata": {},
   "source": [
    "Final layer output is <s>(7, 7, 2048)</s> / (4,4,512)"
   ]
  },
  {
   "cell_type": "code",
   "execution_count": 5,
   "metadata": {},
   "outputs": [
    {
     "name": "stdout",
     "output_type": "stream",
     "text": [
      "Found 6353 images belonging to 102 classes.\n",
      "Found 1788 images belonging to 102 classes.\n",
      "Found 1003 images belonging to 102 classes.\n"
     ]
    }
   ],
   "source": [
    "\n",
    "from keras.preprocessing.image import ImageDataGenerator\n",
    "\n",
    "base_dir = './split_dataset'\n",
    "\n",
    "train_dir = os.path.join(base_dir, 'train')\n",
    "validation_dir = os.path.join(base_dir, 'validation')\n",
    "test_dir = os.path.join(base_dir, 'test')\n",
    "\n",
    "datagen = ImageDataGenerator(rescale=1./255)\n",
    "batch_size = 20\n",
    "\n",
    "def extract_features(directory, sample_count):\n",
    "    features = np.zeros(shape=(sample_count, 4, 4, 512))\n",
    "    labels = np.zeros(shape=(sample_count, 102))\n",
    "    generator = datagen.flow_from_directory(\n",
    "        directory,\n",
    "        target_size=(150, 150),\n",
    "        batch_size=batch_size,\n",
    "        class_mode='categorical')\n",
    "    i = 0\n",
    "    for inputs_batch, labels_batch in generator:\n",
    "        features_batch = conv_base.predict(inputs_batch)\n",
    "        features[i * batch_size : (i + 1) * batch_size] = features_batch\n",
    "        labels[i * batch_size : (i + 1) * batch_size] = labels_batch\n",
    "        i += 1\n",
    "        if i * batch_size >= sample_count:\n",
    "            # Note that since generators yield data indefinitely in a loop,\n",
    "            # we must `break` after every image has been seen once.\n",
    "            break\n",
    "    return features, labels\n",
    "\n",
    "train_features, train_labels = extract_features(train_dir, 6353)\n",
    "validation_features, validation_labels = extract_features(validation_dir, 1788)\n",
    "test_features, test_labels = extract_features(test_dir, 1003)"
   ]
  },
  {
   "cell_type": "markdown",
   "metadata": {},
   "source": [
    "We used an existing VGG16 network to extract features from the images. The extracted features are currently of shape <s>(samples, 7, 7, 2048)</s>(samples, 4, 4, 512). We will feed them to a densely-connected classifier, so first we must flatten them to <s>(samples, 100352)</s>(samples, 8192):"
   ]
  },
  {
   "cell_type": "code",
   "execution_count": 6,
   "metadata": {},
   "outputs": [],
   "source": [
    "train_features = np.reshape(train_features, (6353, 4 * 4 * 512))\n",
    "validation_features = np.reshape(validation_features, (1788, 4 * 4 * 512))\n",
    "test_features = np.reshape(test_features, (1003, 4 * 4 * 512))"
   ]
  },
  {
   "cell_type": "markdown",
   "metadata": {},
   "source": [
    "Train a small network based on the extracted features."
   ]
  },
  {
   "cell_type": "code",
   "execution_count": 7,
   "metadata": {
    "scrolled": false
   },
   "outputs": [
    {
     "name": "stdout",
     "output_type": "stream",
     "text": [
      "WARNING:tensorflow:From /home/javi/.anaconda3/envs/python3/lib/python3.6/site-packages/keras/backend/tensorflow_backend.py:3445: calling dropout (from tensorflow.python.ops.nn_ops) with keep_prob is deprecated and will be removed in a future version.\n",
      "Instructions for updating:\n",
      "Please use `rate` instead of `keep_prob`. Rate should be set to `rate = 1 - keep_prob`.\n",
      "WARNING:tensorflow:From /home/javi/.anaconda3/envs/python3/lib/python3.6/site-packages/keras/optimizers.py:790: The name tf.train.Optimizer is deprecated. Please use tf.compat.v1.train.Optimizer instead.\n",
      "\n",
      "WARNING:tensorflow:From /home/javi/.anaconda3/envs/python3/lib/python3.6/site-packages/tensorflow/python/ops/math_grad.py:1250: add_dispatch_support.<locals>.wrapper (from tensorflow.python.ops.array_ops) is deprecated and will be removed in a future version.\n",
      "Instructions for updating:\n",
      "Use tf.where in 2.0, which has the same broadcast rule as np.where\n",
      "Train on 6353 samples, validate on 1788 samples\n",
      "Epoch 1/30\n",
      "6353/6353 [==============================] - 3s 443us/step - loss: 2.3031 - acc: 0.4955 - val_loss: 1.2469 - val_acc: 0.6991\n",
      "Epoch 2/30\n",
      "6353/6353 [==============================] - 3s 398us/step - loss: 1.1354 - acc: 0.7118 - val_loss: 0.8596 - val_acc: 0.7802\n",
      "Epoch 3/30\n",
      "6353/6353 [==============================] - 3s 420us/step - loss: 0.7907 - acc: 0.7823 - val_loss: 0.7799 - val_acc: 0.8009\n",
      "Epoch 4/30\n",
      "6353/6353 [==============================] - 3s 397us/step - loss: 0.5984 - acc: 0.8322 - val_loss: 0.7540 - val_acc: 0.8020\n",
      "Epoch 5/30\n",
      "6353/6353 [==============================] - 3s 417us/step - loss: 0.4720 - acc: 0.8602 - val_loss: 0.7256 - val_acc: 0.8121\n",
      "Epoch 6/30\n",
      "6353/6353 [==============================] - 3s 401us/step - loss: 0.3779 - acc: 0.8886 - val_loss: 0.7913 - val_acc: 0.7970\n",
      "Epoch 7/30\n",
      "6353/6353 [==============================] - 3s 398us/step - loss: 0.3642 - acc: 0.8845 - val_loss: 0.7127 - val_acc: 0.8115\n",
      "Epoch 8/30\n",
      "6353/6353 [==============================] - 3s 404us/step - loss: 0.2754 - acc: 0.9125 - val_loss: 0.7145 - val_acc: 0.8177\n",
      "Epoch 9/30\n",
      "6353/6353 [==============================] - 2s 391us/step - loss: 0.2626 - acc: 0.9202 - val_loss: 0.7006 - val_acc: 0.8194\n",
      "Epoch 10/30\n",
      "6353/6353 [==============================] - 3s 412us/step - loss: 0.2456 - acc: 0.9227 - val_loss: 0.7252 - val_acc: 0.8199\n",
      "Epoch 11/30\n",
      "6353/6353 [==============================] - 2s 386us/step - loss: 0.2174 - acc: 0.9351 - val_loss: 0.7830 - val_acc: 0.8115\n",
      "Epoch 12/30\n",
      "6353/6353 [==============================] - 3s 436us/step - loss: 0.2262 - acc: 0.9301 - val_loss: 0.7307 - val_acc: 0.8266\n",
      "Epoch 13/30\n",
      "6353/6353 [==============================] - 3s 410us/step - loss: 0.2007 - acc: 0.9389 - val_loss: 0.7781 - val_acc: 0.8272\n",
      "Epoch 14/30\n",
      "6353/6353 [==============================] - 3s 432us/step - loss: 0.2130 - acc: 0.9315 - val_loss: 0.8382 - val_acc: 0.8126\n",
      "Epoch 15/30\n",
      "6353/6353 [==============================] - 3s 413us/step - loss: 0.2021 - acc: 0.9359 - val_loss: 0.8821 - val_acc: 0.8138\n",
      "Epoch 16/30\n",
      "6353/6353 [==============================] - 3s 418us/step - loss: 0.1902 - acc: 0.9408 - val_loss: 0.8476 - val_acc: 0.8233\n",
      "Epoch 17/30\n",
      "6353/6353 [==============================] - 3s 422us/step - loss: 0.1776 - acc: 0.9440 - val_loss: 0.8302 - val_acc: 0.8272\n",
      "Epoch 18/30\n",
      "6353/6353 [==============================] - 3s 438us/step - loss: 0.1575 - acc: 0.9503 - val_loss: 0.8744 - val_acc: 0.8227\n",
      "Epoch 19/30\n",
      "6353/6353 [==============================] - 3s 426us/step - loss: 0.2022 - acc: 0.9350 - val_loss: 0.9030 - val_acc: 0.8154\n",
      "Epoch 20/30\n",
      "6353/6353 [==============================] - 3s 423us/step - loss: 0.1615 - acc: 0.9498 - val_loss: 0.8023 - val_acc: 0.8249\n",
      "Epoch 21/30\n",
      "6353/6353 [==============================] - 3s 410us/step - loss: 0.1697 - acc: 0.9496 - val_loss: 0.8727 - val_acc: 0.8249\n",
      "Epoch 22/30\n",
      "6353/6353 [==============================] - 2s 390us/step - loss: 0.1497 - acc: 0.9561 - val_loss: 0.9344 - val_acc: 0.8205\n",
      "Epoch 23/30\n",
      "6353/6353 [==============================] - 3s 399us/step - loss: 0.1362 - acc: 0.9581 - val_loss: 0.9792 - val_acc: 0.8182\n",
      "Epoch 24/30\n",
      "6353/6353 [==============================] - 3s 401us/step - loss: 0.1333 - acc: 0.9588 - val_loss: 0.9743 - val_acc: 0.8210\n",
      "Epoch 25/30\n",
      "6353/6353 [==============================] - 3s 400us/step - loss: 0.1825 - acc: 0.9414 - val_loss: 1.0529 - val_acc: 0.8065\n",
      "Epoch 26/30\n",
      "6353/6353 [==============================] - 3s 400us/step - loss: 0.1504 - acc: 0.9553 - val_loss: 0.9099 - val_acc: 0.8233\n",
      "Epoch 27/30\n",
      "6353/6353 [==============================] - 3s 401us/step - loss: 0.1516 - acc: 0.9555 - val_loss: 0.9474 - val_acc: 0.8289\n",
      "Epoch 28/30\n",
      "6353/6353 [==============================] - 3s 402us/step - loss: 0.1592 - acc: 0.9534 - val_loss: 1.0318 - val_acc: 0.8182\n",
      "Epoch 29/30\n",
      "6353/6353 [==============================] - 2s 390us/step - loss: 0.1416 - acc: 0.9580 - val_loss: 0.9348 - val_acc: 0.8205\n",
      "Epoch 30/30\n",
      "6353/6353 [==============================] - 2s 385us/step - loss: 0.1198 - acc: 0.9629 - val_loss: 0.9884 - val_acc: 0.8277\n"
     ]
    }
   ],
   "source": [
    "from keras import models\n",
    "from keras import layers\n",
    "from keras import optimizers\n",
    "\n",
    "model = models.Sequential()\n",
    "model.add(layers.Dense(512, activation='relu', input_dim=4 * 4 * 512))\n",
    "model.add(layers.Dropout(0.5))\n",
    "model.add(layers.Dense(102, activation='softmax'))\n",
    "\n",
    "model.compile(optimizer=optimizers.Adam(),\n",
    "              loss='categorical_crossentropy',\n",
    "              metrics=['acc'])\n",
    "\n",
    "history = model.fit(train_features, train_labels,\n",
    "                    epochs=30,\n",
    "                    batch_size=20,\n",
    "                    validation_data=(validation_features, validation_labels))"
   ]
  },
  {
   "cell_type": "code",
   "execution_count": 8,
   "metadata": {},
   "outputs": [
    {
     "data": {
      "image/png": "[encoded data removed]",
      "text/plain": [
       "<Figure size 432x288 with 1 Axes>"
      ]
     },
     "metadata": {
      "needs_background": "light"
     },
     "output_type": "display_data"
    },
    {
     "data": {
      "image/png": "[encoded data removed]",
      "text/plain": [
       "<Figure size 432x288 with 1 Axes>"
      ]
     },
     "metadata": {
      "needs_background": "light"
     },
     "output_type": "display_data"
    }
   ],
   "source": [
    "acc = history.history['acc']\n",
    "val_acc = history.history['val_acc']\n",
    "loss = history.history['loss']\n",
    "val_loss = history.history['val_loss']\n",
    "\n",
    "epochs = range(len(acc))\n",
    "\n",
    "plt.plot(epochs, acc, 'bo', label='Training acc')\n",
    "plt.plot(epochs, val_acc, 'b', label='Validation acc')\n",
    "plt.title('Training and validation accuracy')\n",
    "plt.legend()\n",
    "\n",
    "plt.figure()\n",
    "\n",
    "plt.plot(epochs, loss, 'bo', label='Training loss')\n",
    "plt.plot(epochs, val_loss, 'b', label='Validation loss')\n",
    "plt.title('Training and validation loss')\n",
    "plt.legend()\n",
    "\n",
    "plt.show()"
   ]
  },
  {
   "cell_type": "code",
   "execution_count": 9,
   "metadata": {},
   "outputs": [],
   "source": [
    "model.save('caltech101_pretrained_1.h5')"
   ]
  },
  {
   "cell_type": "markdown",
   "metadata": {},
   "source": [
    "Validation accuracy is better but the plots shows that there is also overfitting alsmost immediately. Let's use the other more expensive method where we incorporate and freeze the VGG16 in the model and train only part of the network on top."
   ]
  },
  {
   "cell_type": "code",
   "execution_count": 15,
   "metadata": {},
   "outputs": [],
   "source": [
    "from keras import models\n",
    "from keras import layers\n",
    "\n",
    "model = models.Sequential()\n",
    "model.add(conv_base)\n",
    "model.add(layers.Flatten())\n",
    "model.add(layers.Dense(512, activation='relu'))\n",
    "model.add(layers.Dense(102, activation='softmax'))"
   ]
  },
  {
   "cell_type": "code",
   "execution_count": 16,
   "metadata": {},
   "outputs": [
    {
     "name": "stdout",
     "output_type": "stream",
     "text": [
      "_________________________________________________________________\n",
      "Layer (type)                 Output Shape              Param #   \n",
      "=================================================================\n",
      "vgg16 (Model)                (None, 4, 4, 512)         14714688  \n",
      "_________________________________________________________________\n",
      "flatten_2 (Flatten)          (None, 8192)              0         \n",
      "_________________________________________________________________\n",
      "dense_5 (Dense)              (None, 512)               4194816   \n",
      "_________________________________________________________________\n",
      "dense_6 (Dense)              (None, 102)               52326     \n",
      "=================================================================\n",
      "Total params: 18,961,830\n",
      "Trainable params: 4,247,142\n",
      "Non-trainable params: 14,714,688\n",
      "_________________________________________________________________\n"
     ]
    }
   ],
   "source": [
    "model.summary()"
   ]
  },
  {
   "cell_type": "code",
   "execution_count": 17,
   "metadata": {},
   "outputs": [
    {
     "name": "stdout",
     "output_type": "stream",
     "text": [
      "This is the number of trainable weights before freezing the conv base: 4\n"
     ]
    }
   ],
   "source": [
    "print('This is the number of trainable weights '\n",
    "      'before freezing the conv base:', len(model.trainable_weights))"
   ]
  },
  {
   "cell_type": "code",
   "execution_count": 18,
   "metadata": {},
   "outputs": [],
   "source": [
    "conv_base.trainable = False"
   ]
  },
  {
   "cell_type": "code",
   "execution_count": 19,
   "metadata": {},
   "outputs": [
    {
     "name": "stdout",
     "output_type": "stream",
     "text": [
      "This is the number of trainable weights after freezing the conv base: 4\n"
     ]
    }
   ],
   "source": [
    "print('This is the number of trainable weights '\n",
    "      'after freezing the conv base:', len(model.trainable_weights))"
   ]
  },
  {
   "cell_type": "code",
   "execution_count": 20,
   "metadata": {
    "scrolled": true
   },
   "outputs": [
    {
     "name": "stdout",
     "output_type": "stream",
     "text": [
      "Found 6353 images belonging to 102 classes.\n",
      "Found 1788 images belonging to 102 classes.\n",
      "Epoch 1/30\n",
      " - 44s - loss: 2.1213 - acc: 0.5183 - val_loss: 1.2776 - val_acc: 0.6775\n",
      "Epoch 2/30\n",
      " - 42s - loss: 1.2611 - acc: 0.6665 - val_loss: 1.0266 - val_acc: 0.7210\n",
      "Epoch 3/30\n",
      " - 44s - loss: 1.0394 - acc: 0.7182 - val_loss: 0.9615 - val_acc: 0.7431\n",
      "Epoch 4/30\n",
      " - 44s - loss: 0.9178 - acc: 0.7476 - val_loss: 0.8843 - val_acc: 0.7594\n",
      "Epoch 5/30\n",
      " - 42s - loss: 0.8026 - acc: 0.7739 - val_loss: 0.9013 - val_acc: 0.7645\n",
      "Epoch 6/30\n",
      " - 42s - loss: 0.7863 - acc: 0.7785 - val_loss: 0.8166 - val_acc: 0.7903\n",
      "Epoch 7/30\n",
      " - 41s - loss: 0.7130 - acc: 0.7972 - val_loss: 0.8649 - val_acc: 0.7771\n",
      "Epoch 8/30\n",
      " - 41s - loss: 0.6925 - acc: 0.7998 - val_loss: 1.0358 - val_acc: 0.7626\n",
      "Epoch 9/30\n",
      " - 42s - loss: 0.6507 - acc: 0.8147 - val_loss: 0.8521 - val_acc: 0.7909\n",
      "Epoch 10/30\n",
      " - 42s - loss: 0.6252 - acc: 0.8146 - val_loss: 0.8854 - val_acc: 0.7856\n",
      "Epoch 11/30\n",
      " - 42s - loss: 0.5907 - acc: 0.8281 - val_loss: 0.8743 - val_acc: 0.7928\n",
      "Epoch 12/30\n",
      " - 40s - loss: 0.5648 - acc: 0.8367 - val_loss: 0.9379 - val_acc: 0.7865\n",
      "Epoch 13/30\n",
      " - 42s - loss: 0.5532 - acc: 0.8372 - val_loss: 0.9349 - val_acc: 0.7878\n",
      "Epoch 14/30\n",
      " - 42s - loss: 0.5617 - acc: 0.8396 - val_loss: 1.0087 - val_acc: 0.7702\n",
      "Epoch 15/30\n",
      " - 42s - loss: 0.5101 - acc: 0.8463 - val_loss: 0.9396 - val_acc: 0.7802\n",
      "Epoch 16/30\n",
      " - 42s - loss: 0.4928 - acc: 0.8520 - val_loss: 0.9793 - val_acc: 0.7758\n",
      "Epoch 17/30\n",
      " - 42s - loss: 0.4831 - acc: 0.8556 - val_loss: 0.9830 - val_acc: 0.7947\n",
      "Epoch 18/30\n",
      " - 41s - loss: 0.4971 - acc: 0.8530 - val_loss: 0.9995 - val_acc: 0.7777\n",
      "Epoch 19/30\n",
      " - 42s - loss: 0.4862 - acc: 0.8590 - val_loss: 1.0067 - val_acc: 0.7725\n",
      "Epoch 20/30\n",
      " - 41s - loss: 0.4480 - acc: 0.8607 - val_loss: 1.0735 - val_acc: 0.7960\n",
      "Epoch 21/30\n",
      " - 42s - loss: 0.4659 - acc: 0.8614 - val_loss: 0.9725 - val_acc: 0.7872\n",
      "Epoch 22/30\n",
      " - 42s - loss: 0.4546 - acc: 0.8686 - val_loss: 1.0226 - val_acc: 0.7853\n",
      "Epoch 23/30\n",
      " - 42s - loss: 0.4516 - acc: 0.8707 - val_loss: 0.9880 - val_acc: 0.7872\n",
      "Epoch 24/30\n",
      " - 41s - loss: 0.4252 - acc: 0.8743 - val_loss: 1.0706 - val_acc: 0.7783\n",
      "Epoch 25/30\n",
      " - 41s - loss: 0.4053 - acc: 0.8793 - val_loss: 1.0362 - val_acc: 0.7809\n",
      "Epoch 26/30\n",
      " - 42s - loss: 0.4001 - acc: 0.8791 - val_loss: 1.0695 - val_acc: 0.7897\n",
      "Epoch 27/30\n",
      " - 43s - loss: 0.4325 - acc: 0.8715 - val_loss: 1.1832 - val_acc: 0.7746\n",
      "Epoch 28/30\n",
      " - 42s - loss: 0.3885 - acc: 0.8832 - val_loss: 1.1537 - val_acc: 0.7881\n",
      "Epoch 29/30\n",
      " - 42s - loss: 0.3939 - acc: 0.8809 - val_loss: 1.1227 - val_acc: 0.7884\n",
      "Epoch 30/30\n",
      " - 43s - loss: 0.3976 - acc: 0.8868 - val_loss: 1.1232 - val_acc: 0.7935\n"
     ]
    }
   ],
   "source": [
    "from keras.preprocessing.image import ImageDataGenerator\n",
    "\n",
    "train_datagen = ImageDataGenerator(\n",
    "      rescale=1./255,\n",
    "      rotation_range=40,\n",
    "      width_shift_range=0.2,\n",
    "      height_shift_range=0.2,\n",
    "      shear_range=0.2,\n",
    "      zoom_range=0.2,\n",
    "      horizontal_flip=True,\n",
    "      fill_mode='nearest')\n",
    "\n",
    "# Note that the validation data should not be augmented!\n",
    "test_datagen = ImageDataGenerator(rescale=1./255)\n",
    "\n",
    "train_generator = train_datagen.flow_from_directory(\n",
    "        # This is the target directory\n",
    "        train_dir,\n",
    "        # All images will be resized to 150x150\n",
    "        target_size=(150, 150),\n",
    "        batch_size=20,\n",
    "        # Since we use binary_crossentropy loss, we need binary labels\n",
    "        class_mode='categorical')\n",
    "\n",
    "validation_generator = test_datagen.flow_from_directory(\n",
    "        validation_dir,\n",
    "        target_size=(150, 150),\n",
    "        batch_size=20,\n",
    "        class_mode='categorical')\n",
    "\n",
    "model.compile(loss='categorical_crossentropy',\n",
    "              optimizer=optimizers.Adam(),\n",
    "              metrics=['acc'])\n",
    "\n",
    "history = model.fit_generator(\n",
    "      train_generator,\n",
    "      steps_per_epoch=400,\n",
    "      epochs=30,\n",
    "      validation_data=validation_generator,\n",
    "      validation_steps=80,\n",
    "      verbose=2)"
   ]
  },
  {
   "cell_type": "code",
   "execution_count": 24,
   "metadata": {},
   "outputs": [],
   "source": [
    "model.save('caltech101_3.h5')"
   ]
  },
  {
   "cell_type": "code",
   "execution_count": 25,
   "metadata": {},
   "outputs": [
    {
     "data": {
      "image/png": "[encoded data removed]",
      "text/plain": [
       "<Figure size 432x288 with 1 Axes>"
      ]
     },
     "metadata": {
      "needs_background": "light"
     },
     "output_type": "display_data"
    },
    {
     "data": {
      "image/png": "[encoded data removed]",
      "text/plain": [
       "<Figure size 432x288 with 1 Axes>"
      ]
     },
     "metadata": {
      "needs_background": "light"
     },
     "output_type": "display_data"
    }
   ],
   "source": [
    "acc = history.history['acc']\n",
    "val_acc = history.history['val_acc']\n",
    "loss = history.history['loss']\n",
    "val_loss = history.history['val_loss']\n",
    "\n",
    "epochs = range(len(acc))\n",
    "\n",
    "plt.plot(epochs, acc, 'bo', label='Training acc')\n",
    "plt.plot(epochs, val_acc, 'b', label='Validation acc')\n",
    "plt.title('Training and validation accuracy')\n",
    "plt.legend()\n",
    "\n",
    "plt.figure()\n",
    "\n",
    "plt.plot(epochs, loss, 'bo', label='Training loss')\n",
    "plt.plot(epochs, val_loss, 'b', label='Validation loss')\n",
    "plt.title('Training and validation loss')\n",
    "plt.legend()\n",
    "\n",
    "plt.show()"
   ]
  },
  {
   "cell_type": "markdown",
   "metadata": {},
   "source": [
    "Almost 77% accuracy. But there is still overfitting."
   ]
  },
  {
   "cell_type": "markdown",
   "metadata": {},
   "source": [
    "# Fine-tuning\n",
    "\n",
    "We got 77% accuracy above. Let's try with fine-tuning."
   ]
  },
  {
   "cell_type": "code",
   "execution_count": 26,
   "metadata": {},
   "outputs": [
    {
     "name": "stdout",
     "output_type": "stream",
     "text": [
      "_________________________________________________________________\n",
      "Layer (type)                 Output Shape              Param #   \n",
      "=================================================================\n",
      "input_1 (InputLayer)         (None, 150, 150, 3)       0         \n",
      "_________________________________________________________________\n",
      "block1_conv1 (Conv2D)        (None, 150, 150, 64)      1792      \n",
      "_________________________________________________________________\n",
      "block1_conv2 (Conv2D)        (None, 150, 150, 64)      36928     \n",
      "_________________________________________________________________\n",
      "block1_pool (MaxPooling2D)   (None, 75, 75, 64)        0         \n",
      "_________________________________________________________________\n",
      "block2_conv1 (Conv2D)        (None, 75, 75, 128)       73856     \n",
      "_________________________________________________________________\n",
      "block2_conv2 (Conv2D)        (None, 75, 75, 128)       147584    \n",
      "_________________________________________________________________\n",
      "block2_pool (MaxPooling2D)   (None, 37, 37, 128)       0         \n",
      "_________________________________________________________________\n",
      "block3_conv1 (Conv2D)        (None, 37, 37, 256)       295168    \n",
      "_________________________________________________________________\n",
      "block3_conv2 (Conv2D)        (None, 37, 37, 256)       590080    \n",
      "_________________________________________________________________\n",
      "block3_conv3 (Conv2D)        (None, 37, 37, 256)       590080    \n",
      "_________________________________________________________________\n",
      "block3_pool (MaxPooling2D)   (None, 18, 18, 256)       0         \n",
      "_________________________________________________________________\n",
      "block4_conv1 (Conv2D)        (None, 18, 18, 512)       1180160   \n",
      "_________________________________________________________________\n",
      "block4_conv2 (Conv2D)        (None, 18, 18, 512)       2359808   \n",
      "_________________________________________________________________\n",
      "block4_conv3 (Conv2D)        (None, 18, 18, 512)       2359808   \n",
      "_________________________________________________________________\n",
      "block4_pool (MaxPooling2D)   (None, 9, 9, 512)         0         \n",
      "_________________________________________________________________\n",
      "block5_conv1 (Conv2D)        (None, 9, 9, 512)         2359808   \n",
      "_________________________________________________________________\n",
      "block5_conv2 (Conv2D)        (None, 9, 9, 512)         2359808   \n",
      "_________________________________________________________________\n",
      "block5_conv3 (Conv2D)        (None, 9, 9, 512)         2359808   \n",
      "_________________________________________________________________\n",
      "block5_pool (MaxPooling2D)   (None, 4, 4, 512)         0         \n",
      "=================================================================\n",
      "Total params: 14,714,688\n",
      "Trainable params: 0\n",
      "Non-trainable params: 14,714,688\n",
      "_________________________________________________________________\n"
     ]
    }
   ],
   "source": [
    "conv_base.summary()"
   ]
  },
  {
   "cell_type": "code",
   "execution_count": 27,
   "metadata": {},
   "outputs": [],
   "source": [
    "conv_base.trainable = True\n",
    "\n",
    "set_trainable = False\n",
    "for layer in conv_base.layers:\n",
    "    if layer.name == 'block5_conv1':\n",
    "        set_trainable = True\n",
    "    if set_trainable:\n",
    "        layer.trainable = True\n",
    "    else:\n",
    "        layer.trainable = False"
   ]
  },
  {
   "cell_type": "code",
   "execution_count": 28,
   "metadata": {
    "scrolled": true
   },
   "outputs": [
    {
     "name": "stdout",
     "output_type": "stream",
     "text": [
      "Epoch 1/30\n",
      "400/400 [==============================] - 49s 123ms/step - loss: 0.2961 - acc: 0.9092 - val_loss: 0.9932 - val_acc: 0.8098\n",
      "Epoch 2/30\n",
      "400/400 [==============================] - 49s 122ms/step - loss: 0.2531 - acc: 0.9222 - val_loss: 1.0913 - val_acc: 0.7991\n",
      "Epoch 3/30\n",
      "400/400 [==============================] - 49s 122ms/step - loss: 0.2100 - acc: 0.9384 - val_loss: 0.9471 - val_acc: 0.8205\n",
      "Epoch 4/30\n",
      "400/400 [==============================] - 49s 123ms/step - loss: 0.2141 - acc: 0.9358 - val_loss: 1.0373 - val_acc: 0.8086\n",
      "Epoch 5/30\n",
      "400/400 [==============================] - 49s 123ms/step - loss: 0.1728 - acc: 0.9486 - val_loss: 1.0321 - val_acc: 0.8029\n",
      "Epoch 6/30\n",
      "400/400 [==============================] - 49s 124ms/step - loss: 0.1657 - acc: 0.9501 - val_loss: 0.9317 - val_acc: 0.8344\n",
      "Epoch 7/30\n",
      "400/400 [==============================] - 48s 121ms/step - loss: 0.1658 - acc: 0.9474 - val_loss: 0.9981 - val_acc: 0.8230\n",
      "Epoch 8/30\n",
      "400/400 [==============================] - 48s 120ms/step - loss: 0.1523 - acc: 0.9552 - val_loss: 0.9859 - val_acc: 0.8219\n",
      "Epoch 9/30\n",
      "400/400 [==============================] - 48s 120ms/step - loss: 0.1530 - acc: 0.9557 - val_loss: 0.9369 - val_acc: 0.8256\n",
      "Epoch 10/30\n",
      "400/400 [==============================] - 48s 121ms/step - loss: 0.1319 - acc: 0.9605 - val_loss: 0.9978 - val_acc: 0.8300\n",
      "Epoch 11/30\n",
      "400/400 [==============================] - 48s 120ms/step - loss: 0.1332 - acc: 0.9576 - val_loss: 0.9210 - val_acc: 0.8300\n",
      "Epoch 12/30\n",
      "400/400 [==============================] - 48s 121ms/step - loss: 0.1268 - acc: 0.9621 - val_loss: 0.9328 - val_acc: 0.8275\n",
      "Epoch 13/30\n",
      "400/400 [==============================] - 48s 121ms/step - loss: 0.1274 - acc: 0.9604 - val_loss: 1.0533 - val_acc: 0.8331\n",
      "Epoch 14/30\n",
      "400/400 [==============================] - 48s 121ms/step - loss: 0.1015 - acc: 0.9664 - val_loss: 1.0263 - val_acc: 0.8230\n",
      "Epoch 15/30\n",
      "400/400 [==============================] - 49s 121ms/step - loss: 0.1024 - acc: 0.9682 - val_loss: 1.0760 - val_acc: 0.8205\n",
      "Epoch 16/30\n",
      "400/400 [==============================] - 49s 122ms/step - loss: 0.1030 - acc: 0.9684 - val_loss: 1.0547 - val_acc: 0.8281\n",
      "Epoch 17/30\n",
      "400/400 [==============================] - 49s 122ms/step - loss: 0.0987 - acc: 0.9700 - val_loss: 0.9527 - val_acc: 0.8288\n",
      "Epoch 18/30\n",
      "400/400 [==============================] - 49s 123ms/step - loss: 0.0932 - acc: 0.9705 - val_loss: 1.1059 - val_acc: 0.8256\n",
      "Epoch 19/30\n",
      "400/400 [==============================] - 49s 122ms/step - loss: 0.0935 - acc: 0.9710 - val_loss: 0.8946 - val_acc: 0.8382\n",
      "Epoch 20/30\n",
      "400/400 [==============================] - 49s 122ms/step - loss: 0.0926 - acc: 0.9717 - val_loss: 1.0349 - val_acc: 0.8230\n",
      "Epoch 21/30\n",
      "400/400 [==============================] - 49s 123ms/step - loss: 0.0903 - acc: 0.9722 - val_loss: 0.9553 - val_acc: 0.8375\n",
      "Epoch 22/30\n",
      "400/400 [==============================] - 49s 122ms/step - loss: 0.0904 - acc: 0.9706 - val_loss: 1.0251 - val_acc: 0.8249\n",
      "Epoch 23/30\n",
      "400/400 [==============================] - 49s 122ms/step - loss: 0.0803 - acc: 0.9747 - val_loss: 1.0524 - val_acc: 0.8224\n",
      "Epoch 24/30\n",
      "400/400 [==============================] - 49s 123ms/step - loss: 0.0804 - acc: 0.9759 - val_loss: 0.9382 - val_acc: 0.8344\n",
      "Epoch 25/30\n",
      "400/400 [==============================] - 49s 122ms/step - loss: 0.0758 - acc: 0.9771 - val_loss: 1.0395 - val_acc: 0.8287\n",
      "Epoch 26/30\n",
      "400/400 [==============================] - 49s 122ms/step - loss: 0.0660 - acc: 0.9794 - val_loss: 1.0926 - val_acc: 0.8238\n",
      "Epoch 27/30\n",
      "400/400 [==============================] - 49s 123ms/step - loss: 0.0765 - acc: 0.9747 - val_loss: 1.0186 - val_acc: 0.8344\n",
      "Epoch 28/30\n",
      "400/400 [==============================] - 49s 123ms/step - loss: 0.0868 - acc: 0.9744 - val_loss: 0.9492 - val_acc: 0.8363\n",
      "Epoch 29/30\n",
      "400/400 [==============================] - 49s 123ms/step - loss: 0.0671 - acc: 0.9800 - val_loss: 1.1408 - val_acc: 0.8306\n",
      "Epoch 30/30\n",
      "400/400 [==============================] - 49s 124ms/step - loss: 0.0636 - acc: 0.9806 - val_loss: 0.9640 - val_acc: 0.8457\n"
     ]
    }
   ],
   "source": [
    "model.compile(loss='categorical_crossentropy',\n",
    "              optimizer=optimizers.Adam(lr=1e-5),\n",
    "              metrics=['acc'])\n",
    "\n",
    "history = model.fit_generator(\n",
    "      train_generator,\n",
    "      steps_per_epoch=400,\n",
    "      epochs=30,\n",
    "      validation_data=validation_generator,\n",
    "      validation_steps=80)"
   ]
  },
  {
   "cell_type": "code",
   "execution_count": 29,
   "metadata": {},
   "outputs": [],
   "source": [
    "model.save('caltech101_4.h5')"
   ]
  },
  {
   "cell_type": "code",
   "execution_count": 30,
   "metadata": {},
   "outputs": [
    {
     "data": {
      "image/png": "[encoded data removed]",
      "text/plain": [
       "<Figure size 432x288 with 1 Axes>"
      ]
     },
     "metadata": {
      "needs_background": "light"
     },
     "output_type": "display_data"
    },
    {
     "data": {
      "image/png": "[encoded data removed]",
      "text/plain": [
       "<Figure size 432x288 with 1 Axes>"
      ]
     },
     "metadata": {
      "needs_background": "light"
     },
     "output_type": "display_data"
    }
   ],
   "source": [
    "acc = history.history['acc']\n",
    "val_acc = history.history['val_acc']\n",
    "loss = history.history['loss']\n",
    "val_loss = history.history['val_loss']\n",
    "\n",
    "epochs = range(len(acc))\n",
    "\n",
    "plt.plot(epochs, acc, 'bo', label='Training acc')\n",
    "plt.plot(epochs, val_acc, 'b', label='Validation acc')\n",
    "plt.title('Training and validation accuracy')\n",
    "plt.legend()\n",
    "\n",
    "plt.figure()\n",
    "\n",
    "plt.plot(epochs, loss, 'bo', label='Training loss')\n",
    "plt.plot(epochs, val_loss, 'b', label='Validation loss')\n",
    "plt.title('Training and validation loss')\n",
    "plt.legend()\n",
    "\n",
    "plt.show()"
   ]
  },
  {
   "cell_type": "markdown",
   "metadata": {},
   "source": [
    "This is better than before, almost 82%. Gained approximately 5% accuracy on validation set."
   ]
  },
  {
   "cell_type": "markdown",
   "metadata": {},
   "source": [
    "Smooth the lines above by _replacing every loss and accuracy with exponential moving averages of these quantities_[see original notebook for more info]."
   ]
  },
  {
   "cell_type": "code",
   "execution_count": 31,
   "metadata": {},
   "outputs": [
    {
     "data": {
      "image/png": "[encoded data removed]",
      "text/plain": [
       "<Figure size 432x288 with 1 Axes>"
      ]
     },
     "metadata": {
      "needs_background": "light"
     },
     "output_type": "display_data"
    },
    {
     "data": {
      "image/png": "[encoded data removed]",
      "text/plain": [
       "<Figure size 432x288 with 1 Axes>"
      ]
     },
     "metadata": {
      "needs_background": "light"
     },
     "output_type": "display_data"
    }
   ],
   "source": [
    "def smooth_curve(points, factor=0.8):\n",
    "  smoothed_points = []\n",
    "  for point in points:\n",
    "    if smoothed_points:\n",
    "      previous = smoothed_points[-1]\n",
    "      smoothed_points.append(previous * factor + point * (1 - factor))\n",
    "    else:\n",
    "      smoothed_points.append(point)\n",
    "  return smoothed_points\n",
    "\n",
    "plt.plot(epochs,\n",
    "         smooth_curve(acc), 'bo', label='Smoothed training acc')\n",
    "plt.plot(epochs,\n",
    "         smooth_curve(val_acc), 'b', label='Smoothed validation acc')\n",
    "plt.title('Training and validation accuracy')\n",
    "plt.legend()\n",
    "\n",
    "plt.figure()\n",
    "\n",
    "plt.plot(epochs,\n",
    "         smooth_curve(loss), 'bo', label='Smoothed training loss')\n",
    "plt.plot(epochs,\n",
    "         smooth_curve(val_loss), 'b', label='Smoothed validation loss')\n",
    "plt.title('Training and validation loss')\n",
    "plt.legend()\n",
    "\n",
    "plt.show()"
   ]
  },
  {
   "cell_type": "code",
   "execution_count": 33,
   "metadata": {},
   "outputs": [
    {
     "name": "stdout",
     "output_type": "stream",
     "text": [
      "Found 1003 images belonging to 102 classes.\n",
      "test acc: 0.8319999957084656\n"
     ]
    }
   ],
   "source": [
    "test_generator = test_datagen.flow_from_directory(\n",
    "        test_dir,\n",
    "        target_size=(150, 150),\n",
    "        batch_size=20,\n",
    "        class_mode='categorical')\n",
    "\n",
    "test_loss, test_acc = model.evaluate_generator(test_generator, steps=50)\n",
    "print('test acc:', test_acc)"
   ]
  },
  {
   "cell_type": "markdown",
   "metadata": {},
   "source": [
    "83.5% accuracy on the test data. Not bad for such a small dataset. But for better results we need more data."
   ]
  },
  {
   "cell_type": "code",
   "execution_count": null,
   "metadata": {},
   "outputs": [],
   "source": []
  }
 ],
 "metadata": {
  "kernelspec": {
   "display_name": "Python 3",
   "language": "python",
   "name": "python3"
  },
  "language_info": {
   "codemirror_mode": {
    "name": "ipython",
    "version": 3
   },
   "file_extension": ".py",
   "mimetype": "text/x-python",
   "name": "python",
   "nbconvert_exporter": "python",
   "pygments_lexer": "ipython3",
   "version": "3.6.9"
  }
 },
 "nbformat": 4,
 "nbformat_minor": 2
}
